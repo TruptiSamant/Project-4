{
  "nbformat": 4,
  "nbformat_minor": 0,
  "metadata": {
    "colab": {
      "name": "PicToRecepie.ipynb",
      "version": "0.3.2",
      "provenance": [],
      "collapsed_sections": []
    },
    "kernelspec": {
      "name": "python3",
      "display_name": "Python 3"
    },
    "accelerator": "GPU"
  },
  "cells": [
    {
      "metadata": {
        "id": "EAbBdkpYe9lf",
        "colab_type": "code",
        "outputId": "8a27e62b-ae35-4a47-b457-28bc4036c1c0",
        "colab": {
          "base_uri": "https://localhost:8080/",
          "height": 35
        }
      },
      "cell_type": "code",
      "source": [
        "#import required libraries \n",
        "\n",
        "from keras import applications\n",
        "from keras.preprocessing.image import ImageDataGenerator\n",
        "from keras import optimizers\n",
        "from keras.models import Sequential, Model \n",
        "from keras.layers import Dropout, Flatten, Dense, GlobalAveragePooling2D\n",
        "from keras import backend as k \n",
        "from keras.callbacks import ModelCheckpoint, LearningRateScheduler, TensorBoard, EarlyStopping"
      ],
      "execution_count": 0,
      "outputs": [
        {
          "output_type": "stream",
          "text": [
            "Using TensorFlow backend.\n"
          ],
          "name": "stderr"
        }
      ]
    },
    {
      "metadata": {
        "id": "OuM3yE0tyEs1",
        "colab_type": "code",
        "colab": {}
      },
      "cell_type": "code",
      "source": [
        "import os"
      ],
      "execution_count": 0,
      "outputs": []
    },
    {
      "metadata": {
        "id": "7RcZdMPWoYyW",
        "colab_type": "code",
        "outputId": "45bb2deb-bfc6-418c-db81-a7f79f7476c5",
        "colab": {
          "base_uri": "https://localhost:8080/",
          "height": 128
        }
      },
      "cell_type": "code",
      "source": [
        "# Load the Drive helper and mount\n",
        "from google.colab import drive\n",
        "\n",
        "# This will prompt for authorization.\n",
        "drive.mount('/content/drive')\n",
        "\n"
      ],
      "execution_count": 0,
      "outputs": [
        {
          "output_type": "stream",
          "text": [
            "Go to this URL in a browser: https://accounts.google.com/o/oauth2/auth?client_id=947318989803-6bn6qk8qdgf4n4g3pfee6491hc0brc4i.apps.googleusercontent.com&redirect_uri=urn%3Aietf%3Awg%3Aoauth%3A2.0%3Aoob&scope=email%20https%3A%2F%2Fwww.googleapis.com%2Fauth%2Fdocs.test%20https%3A%2F%2Fwww.googleapis.com%2Fauth%2Fdrive%20https%3A%2F%2Fwww.googleapis.com%2Fauth%2Fdrive.photos.readonly%20https%3A%2F%2Fwww.googleapis.com%2Fauth%2Fpeopleapi.readonly&response_type=code\n",
            "\n",
            "Enter your authorization code:\n",
            "··········\n",
            "Mounted at /content/drive\n"
          ],
          "name": "stdout"
        }
      ]
    },
    {
      "metadata": {
        "id": "4pKtPgNgp6Sl",
        "colab_type": "code",
        "outputId": "34e7c8c8-1374-4b12-bec9-eb2d1e43c216",
        "colab": {
          "base_uri": "https://localhost:8080/",
          "height": 35
        }
      },
      "cell_type": "code",
      "source": [
        "#go to working directory\n",
        "cd \"/content/drive/My Drive/ColabNotebooks/PicToRecipe\""
      ],
      "execution_count": 0,
      "outputs": [
        {
          "output_type": "stream",
          "text": [
            "/content/drive/My Drive/ColabNotebooks/PicToRecipe\n"
          ],
          "name": "stdout"
        }
      ]
    },
    {
      "metadata": {
        "id": "VOj4X3DwmHFT",
        "colab_type": "code",
        "colab": {}
      },
      "cell_type": "code",
      "source": [
        "#define the veriables\n",
        "img_width, img_height = 224, 224\n",
        "train_data_dir = \"DataSet/Training_set\"\n",
        "validation_data_dir = \"DataSet/Test_set\""
      ],
      "execution_count": 0,
      "outputs": []
    },
    {
      "metadata": {
        "id": "N70ZanA0LmkY",
        "colab_type": "code",
        "outputId": "08e5206f-c888-401b-8174-8e147bd95984",
        "colab": {
          "base_uri": "https://localhost:8080/",
          "height": 417
        }
      },
      "cell_type": "code",
      "source": [
        "path, data_dir_list, files = next(os.walk(train_data_dir))\n",
        "data_dir_list"
      ],
      "execution_count": 0,
      "outputs": [
        {
          "output_type": "execute_result",
          "data": {
            "text/plain": [
              "['Red Tomato',\n",
              " 'Broccoli',\n",
              " 'Spring Onion',\n",
              " 'Mushroom',\n",
              " 'Potato',\n",
              " 'Carrot',\n",
              " 'Corn',\n",
              " 'Spinach',\n",
              " 'Eggplant',\n",
              " 'Onion',\n",
              " 'Coliflower',\n",
              " 'Green Tomato',\n",
              " 'Brussels Sprouts',\n",
              " 'Green Beans',\n",
              " 'Avocado',\n",
              " 'Cabbage',\n",
              " 'cucumber',\n",
              " 'beet',\n",
              " 'sweetpotato',\n",
              " 'Okra',\n",
              " 'peas',\n",
              " 'Pumpkin']"
            ]
          },
          "metadata": {
            "tags": []
          },
          "execution_count": 6
        }
      ]
    },
    {
      "metadata": {
        "id": "HAp2CImMmJTx",
        "colab_type": "code",
        "outputId": "2c85a3c9-5b8a-42f4-9159-ddc1b8094d12",
        "colab": {
          "base_uri": "https://localhost:8080/",
          "height": 54
        }
      },
      "cell_type": "code",
      "source": [
        "#Calculate Train samples\n",
        "train_samples = 0\n",
        "\n",
        "path, dirs, files = next(os.walk(train_data_dir))\n",
        "nb_classsifires = len(dirs)\n",
        "print(nb_classsifires)\n",
        "for d in dirs:\n",
        "    path, nub_classifires, files = next(os.walk(train_data_dir + \"/\" + d))\n",
        "    train_samples = train_samples+len(files)\n",
        "    \n",
        "print(train_samples ) "
      ],
      "execution_count": 0,
      "outputs": [
        {
          "output_type": "stream",
          "text": [
            "22\n",
            "1030\n"
          ],
          "name": "stdout"
        }
      ]
    },
    {
      "metadata": {
        "id": "tFq30e4erjHJ",
        "colab_type": "code",
        "outputId": "e83d3e67-a059-4833-a75d-05c171699593",
        "colab": {
          "base_uri": "https://localhost:8080/",
          "height": 35
        }
      },
      "cell_type": "code",
      "source": [
        "test_samples = 0\n",
        "\n",
        "path, dirs, files = next(os.walk(validation_data_dir))\n",
        "for d in dirs:\n",
        "    path, nub_classifires, files = next(os.walk(validation_data_dir + \"/\" + d))\n",
        "    test_samples = test_samples+len(files)\n",
        "    \n",
        "print(test_samples) "
      ],
      "execution_count": 0,
      "outputs": [
        {
          "output_type": "stream",
          "text": [
            "276\n"
          ],
          "name": "stdout"
        }
      ]
    },
    {
      "metadata": {
        "id": "msUxKAr7fB2s",
        "colab_type": "code",
        "colab": {}
      },
      "cell_type": "code",
      "source": [
        "batch_size = 10\n",
        "epochs = 50"
      ],
      "execution_count": 0,
      "outputs": []
    },
    {
      "metadata": {
        "id": "rSb4omaLfGe8",
        "colab_type": "code",
        "outputId": "4b1a68f5-34f7-411f-cde3-ced0cbfb16cf",
        "colab": {
          "base_uri": "https://localhost:8080/",
          "height": 54
        }
      },
      "cell_type": "code",
      "source": [
        "#VGG19 model, with weights pre-trained on ImageNet.\n",
        "model = applications.VGG19(weights = \"imagenet\", include_top=False, input_shape = (img_width, img_height, 3))\n",
        "#model = applications.VGG19(weights = \"imagenet\", include_top=True, classes=1000, input_shape = None)"
      ],
      "execution_count": 0,
      "outputs": [
        {
          "output_type": "stream",
          "text": [
            "Downloading data from https://github.com/fchollet/deep-learning-models/releases/download/v0.1/vgg19_weights_tf_dim_ordering_tf_kernels_notop.h5\n",
            "80142336/80134624 [==============================] - 1s 0us/step\n"
          ],
          "name": "stdout"
        }
      ]
    },
    {
      "metadata": {
        "id": "oQ8zSFhnfRGJ",
        "colab_type": "code",
        "outputId": "53970e9b-2418-451f-a3ca-d7c9a8b70f76",
        "colab": {
          "base_uri": "https://localhost:8080/",
          "height": 945
        }
      },
      "cell_type": "code",
      "source": [
        "model.summary()"
      ],
      "execution_count": 0,
      "outputs": [
        {
          "output_type": "stream",
          "text": [
            "_________________________________________________________________\n",
            "Layer (type)                 Output Shape              Param #   \n",
            "=================================================================\n",
            "input_1 (InputLayer)         (None, 224, 224, 3)       0         \n",
            "_________________________________________________________________\n",
            "block1_conv1 (Conv2D)        (None, 224, 224, 64)      1792      \n",
            "_________________________________________________________________\n",
            "block1_conv2 (Conv2D)        (None, 224, 224, 64)      36928     \n",
            "_________________________________________________________________\n",
            "block1_pool (MaxPooling2D)   (None, 112, 112, 64)      0         \n",
            "_________________________________________________________________\n",
            "block2_conv1 (Conv2D)        (None, 112, 112, 128)     73856     \n",
            "_________________________________________________________________\n",
            "block2_conv2 (Conv2D)        (None, 112, 112, 128)     147584    \n",
            "_________________________________________________________________\n",
            "block2_pool (MaxPooling2D)   (None, 56, 56, 128)       0         \n",
            "_________________________________________________________________\n",
            "block3_conv1 (Conv2D)        (None, 56, 56, 256)       295168    \n",
            "_________________________________________________________________\n",
            "block3_conv2 (Conv2D)        (None, 56, 56, 256)       590080    \n",
            "_________________________________________________________________\n",
            "block3_conv3 (Conv2D)        (None, 56, 56, 256)       590080    \n",
            "_________________________________________________________________\n",
            "block3_conv4 (Conv2D)        (None, 56, 56, 256)       590080    \n",
            "_________________________________________________________________\n",
            "block3_pool (MaxPooling2D)   (None, 28, 28, 256)       0         \n",
            "_________________________________________________________________\n",
            "block4_conv1 (Conv2D)        (None, 28, 28, 512)       1180160   \n",
            "_________________________________________________________________\n",
            "block4_conv2 (Conv2D)        (None, 28, 28, 512)       2359808   \n",
            "_________________________________________________________________\n",
            "block4_conv3 (Conv2D)        (None, 28, 28, 512)       2359808   \n",
            "_________________________________________________________________\n",
            "block4_conv4 (Conv2D)        (None, 28, 28, 512)       2359808   \n",
            "_________________________________________________________________\n",
            "block4_pool (MaxPooling2D)   (None, 14, 14, 512)       0         \n",
            "_________________________________________________________________\n",
            "block5_conv1 (Conv2D)        (None, 14, 14, 512)       2359808   \n",
            "_________________________________________________________________\n",
            "block5_conv2 (Conv2D)        (None, 14, 14, 512)       2359808   \n",
            "_________________________________________________________________\n",
            "block5_conv3 (Conv2D)        (None, 14, 14, 512)       2359808   \n",
            "_________________________________________________________________\n",
            "block5_conv4 (Conv2D)        (None, 14, 14, 512)       2359808   \n",
            "_________________________________________________________________\n",
            "block5_pool (MaxPooling2D)   (None, 7, 7, 512)         0         \n",
            "=================================================================\n",
            "Total params: 20,024,384\n",
            "Trainable params: 20,024,384\n",
            "Non-trainable params: 0\n",
            "_________________________________________________________________\n"
          ],
          "name": "stdout"
        }
      ]
    },
    {
      "metadata": {
        "id": "ju7DPxkrfUG2",
        "colab_type": "code",
        "colab": {}
      },
      "cell_type": "code",
      "source": [
        "# Freeze the layers which you don't want to train. Here I am freezing the first 5 layers.\n",
        "for layer in model.layers[:5]:\n",
        "    layer.trainable = False"
      ],
      "execution_count": 0,
      "outputs": []
    },
    {
      "metadata": {
        "id": "lVbA60Q-Q2pI",
        "colab_type": "code",
        "colab": {}
      },
      "cell_type": "code",
      "source": [
        "#from keras.preprocessing.image import img_to_array"
      ],
      "execution_count": 0,
      "outputs": []
    },
    {
      "metadata": {
        "id": "1q0wRkjjWcy4",
        "colab_type": "code",
        "colab": {}
      },
      "cell_type": "code",
      "source": [
        "#x = model.get_layer('fc2').output\n",
        "#x = Dense(128, activation=\"relu\")(x)\n",
        "#x = Dropout(0.5)(x)\n",
        "#x = Dense(128, activation=\"relu\")(x)\n",
        "#x = Dropout(0.2)(x)\n",
        "#x = Dense(128, activation=\"relu\")(x)\n",
        "#predictions = Dense(nb_classsifires, activation=\"softmax\")(x)"
      ],
      "execution_count": 0,
      "outputs": []
    },
    {
      "metadata": {
        "id": "ZTihFxbRspiZ",
        "colab_type": "code",
        "colab": {}
      },
      "cell_type": "code",
      "source": [
        "x = model.output\n",
        "x = Flatten()(x) \n",
        "x = Dense(128, activation=\"relu\")(x) \n",
        "x = Dropout(0.5)(x) \n",
        "x = Dense(128, activation=\"relu\")(x) \n",
        "x = Dropout(0.2)(x) \n",
        "x = Dense(128, activation=\"relu\")(x) \n",
        "predictions = Dense(nb_classsifires, activation=\"softmax\")(x)"
      ],
      "execution_count": 0,
      "outputs": []
    },
    {
      "metadata": {
        "id": "-XjICeJGfY6v",
        "colab_type": "code",
        "colab": {}
      },
      "cell_type": "code",
      "source": [
        "# creating the final model \n",
        "model_final = Model(inputs = model.input, outputs = predictions)"
      ],
      "execution_count": 0,
      "outputs": []
    },
    {
      "metadata": {
        "id": "Ri7Nbg3ffbNY",
        "colab_type": "code",
        "colab": {}
      },
      "cell_type": "code",
      "source": [
        "# compile the model \n",
        "model_final.compile(loss = \"categorical_crossentropy\", optimizer = optimizers.SGD(lr=0.0001, momentum=0.9), metrics=[\"accuracy\"])"
      ],
      "execution_count": 0,
      "outputs": []
    },
    {
      "metadata": {
        "id": "zt-t8W0rfd7c",
        "colab_type": "code",
        "colab": {}
      },
      "cell_type": "code",
      "source": [
        "# Initiate the train and test generators with data Augumentation \n",
        "train_datagen = ImageDataGenerator(rescale = 1./255,\n",
        "                                   horizontal_flip = True,\n",
        "                                   fill_mode = \"nearest\",\n",
        "                                   zoom_range = 0.3,\n",
        "                                   width_shift_range = 0.3,\n",
        "                                   height_shift_range=0.3,\n",
        "                                   rotation_range=30)"
      ],
      "execution_count": 0,
      "outputs": []
    },
    {
      "metadata": {
        "id": "dtAYUWztff7S",
        "colab_type": "code",
        "colab": {}
      },
      "cell_type": "code",
      "source": [
        "test_datagen = ImageDataGenerator(rescale = 1./255,\n",
        "                                  horizontal_flip = True,\n",
        "                                  fill_mode = \"nearest\",\n",
        "                                  zoom_range = 0.3,\n",
        "                                  width_shift_range = 0.3,\n",
        "                                  height_shift_range=0.3,\n",
        "                                  rotation_range=30)"
      ],
      "execution_count": 0,
      "outputs": []
    },
    {
      "metadata": {
        "id": "U4EEZlsCfiCZ",
        "colab_type": "code",
        "outputId": "b3cb96b0-08be-47e0-ddc2-4c3c8b44fd68",
        "colab": {
          "base_uri": "https://localhost:8080/",
          "height": 35
        }
      },
      "cell_type": "code",
      "source": [
        "train_generator = train_datagen.flow_from_directory(train_data_dir,\n",
        "                                                    target_size = (img_height, img_width),\n",
        "                                                    batch_size = batch_size, \n",
        "                                                    class_mode = \"categorical\")"
      ],
      "execution_count": 0,
      "outputs": [
        {
          "output_type": "stream",
          "text": [
            "Found 1027 images belonging to 22 classes.\n"
          ],
          "name": "stdout"
        }
      ]
    },
    {
      "metadata": {
        "id": "lWZqueXhfkwe",
        "colab_type": "code",
        "outputId": "7233e99e-3a48-416c-e4a8-88de7e9cfce9",
        "colab": {
          "base_uri": "https://localhost:8080/",
          "height": 35
        }
      },
      "cell_type": "code",
      "source": [
        "validation_generator = test_datagen.flow_from_directory(validation_data_dir,\n",
        "                                                        target_size = (img_height, img_width),\n",
        "                                                        class_mode = \"categorical\")"
      ],
      "execution_count": 0,
      "outputs": [
        {
          "output_type": "stream",
          "text": [
            "Found 275 images belonging to 22 classes.\n"
          ],
          "name": "stdout"
        }
      ]
    },
    {
      "metadata": {
        "id": "LC7GnBymk5ly",
        "colab_type": "code",
        "outputId": "0e24abc9-182b-48a5-9c42-d8cd96219563",
        "colab": {
          "base_uri": "https://localhost:8080/",
          "height": 417
        }
      },
      "cell_type": "code",
      "source": [
        "train_generator.class_indices"
      ],
      "execution_count": 0,
      "outputs": [
        {
          "output_type": "execute_result",
          "data": {
            "text/plain": [
              "{'Avocado': 0,\n",
              " 'Broccoli': 1,\n",
              " 'Brussels Sprouts': 2,\n",
              " 'Cabbage': 3,\n",
              " 'Carrot': 4,\n",
              " 'Coliflower': 5,\n",
              " 'Corn': 6,\n",
              " 'Eggplant': 7,\n",
              " 'Green Beans': 8,\n",
              " 'Green Tomato': 9,\n",
              " 'Mushroom': 10,\n",
              " 'Okra': 11,\n",
              " 'Onion': 12,\n",
              " 'Potato': 13,\n",
              " 'Pumpkin': 14,\n",
              " 'Red Tomato': 15,\n",
              " 'Spinach': 16,\n",
              " 'Spring Onion': 17,\n",
              " 'beet': 18,\n",
              " 'cucumber': 19,\n",
              " 'peas': 20,\n",
              " 'sweetpotato': 21}"
            ]
          },
          "metadata": {
            "tags": []
          },
          "execution_count": 22
        }
      ]
    },
    {
      "metadata": {
        "id": "4FMZ9JyOMeq4",
        "colab_type": "code",
        "colab": {}
      },
      "cell_type": "code",
      "source": [
        "import pandas as pd\n",
        "d = train_generator.class_indices"
      ],
      "execution_count": 0,
      "outputs": []
    },
    {
      "metadata": {
        "id": "S5vUDrDIPRrK",
        "colab_type": "code",
        "outputId": "1254ff4c-ea47-40d2-baae-8bb8e59a8aec",
        "colab": {
          "base_uri": "https://localhost:8080/",
          "height": 55
        }
      },
      "cell_type": "code",
      "source": [
        "d.items()"
      ],
      "execution_count": 0,
      "outputs": [
        {
          "output_type": "execute_result",
          "data": {
            "text/plain": [
              "dict_items([('Avocado', 0), ('Broccoli', 1), ('Brussels Sprouts', 2), ('Cabbage', 3), ('Carrot', 4), ('Coliflower', 5), ('Corn', 6), ('Eggplant', 7), ('Green Beans', 8), ('Green Tomato', 9), ('Mushroom', 10), ('Okra', 11), ('Onion', 12), ('Potato', 13), ('Pumpkin', 14), ('Red Tomato', 15), ('Spinach', 16), ('Spring Onion', 17), ('beet', 18), ('cucumber', 19), ('peas', 20), ('sweetpotato', 21)])"
            ]
          },
          "metadata": {
            "tags": []
          },
          "execution_count": 24
        }
      ]
    },
    {
      "metadata": {
        "id": "nZBAAWVoMWe_",
        "colab_type": "code",
        "colab": {}
      },
      "cell_type": "code",
      "source": [
        "labels = pd.DataFrame(list(d.items()), columns=['Label', 'Index'])"
      ],
      "execution_count": 0,
      "outputs": []
    },
    {
      "metadata": {
        "id": "JMyo6aCCQUVm",
        "colab_type": "code",
        "outputId": "3a2ad7ea-30e4-465e-966d-32a63a63cfa1",
        "colab": {
          "base_uri": "https://localhost:8080/",
          "height": 708
        }
      },
      "cell_type": "code",
      "source": [
        "labels"
      ],
      "execution_count": 0,
      "outputs": [
        {
          "output_type": "execute_result",
          "data": {
            "text/html": [
              "<div>\n",
              "<style scoped>\n",
              "    .dataframe tbody tr th:only-of-type {\n",
              "        vertical-align: middle;\n",
              "    }\n",
              "\n",
              "    .dataframe tbody tr th {\n",
              "        vertical-align: top;\n",
              "    }\n",
              "\n",
              "    .dataframe thead th {\n",
              "        text-align: right;\n",
              "    }\n",
              "</style>\n",
              "<table border=\"1\" class=\"dataframe\">\n",
              "  <thead>\n",
              "    <tr style=\"text-align: right;\">\n",
              "      <th></th>\n",
              "      <th>Label</th>\n",
              "      <th>Index</th>\n",
              "    </tr>\n",
              "  </thead>\n",
              "  <tbody>\n",
              "    <tr>\n",
              "      <th>0</th>\n",
              "      <td>Avocado</td>\n",
              "      <td>0</td>\n",
              "    </tr>\n",
              "    <tr>\n",
              "      <th>1</th>\n",
              "      <td>Broccoli</td>\n",
              "      <td>1</td>\n",
              "    </tr>\n",
              "    <tr>\n",
              "      <th>2</th>\n",
              "      <td>Brussels Sprouts</td>\n",
              "      <td>2</td>\n",
              "    </tr>\n",
              "    <tr>\n",
              "      <th>3</th>\n",
              "      <td>Cabbage</td>\n",
              "      <td>3</td>\n",
              "    </tr>\n",
              "    <tr>\n",
              "      <th>4</th>\n",
              "      <td>Carrot</td>\n",
              "      <td>4</td>\n",
              "    </tr>\n",
              "    <tr>\n",
              "      <th>5</th>\n",
              "      <td>Coliflower</td>\n",
              "      <td>5</td>\n",
              "    </tr>\n",
              "    <tr>\n",
              "      <th>6</th>\n",
              "      <td>Corn</td>\n",
              "      <td>6</td>\n",
              "    </tr>\n",
              "    <tr>\n",
              "      <th>7</th>\n",
              "      <td>Eggplant</td>\n",
              "      <td>7</td>\n",
              "    </tr>\n",
              "    <tr>\n",
              "      <th>8</th>\n",
              "      <td>Green Beans</td>\n",
              "      <td>8</td>\n",
              "    </tr>\n",
              "    <tr>\n",
              "      <th>9</th>\n",
              "      <td>Green Tomato</td>\n",
              "      <td>9</td>\n",
              "    </tr>\n",
              "    <tr>\n",
              "      <th>10</th>\n",
              "      <td>Mushroom</td>\n",
              "      <td>10</td>\n",
              "    </tr>\n",
              "    <tr>\n",
              "      <th>11</th>\n",
              "      <td>Okra</td>\n",
              "      <td>11</td>\n",
              "    </tr>\n",
              "    <tr>\n",
              "      <th>12</th>\n",
              "      <td>Onion</td>\n",
              "      <td>12</td>\n",
              "    </tr>\n",
              "    <tr>\n",
              "      <th>13</th>\n",
              "      <td>Potato</td>\n",
              "      <td>13</td>\n",
              "    </tr>\n",
              "    <tr>\n",
              "      <th>14</th>\n",
              "      <td>Pumpkin</td>\n",
              "      <td>14</td>\n",
              "    </tr>\n",
              "    <tr>\n",
              "      <th>15</th>\n",
              "      <td>Red Tomato</td>\n",
              "      <td>15</td>\n",
              "    </tr>\n",
              "    <tr>\n",
              "      <th>16</th>\n",
              "      <td>Spinach</td>\n",
              "      <td>16</td>\n",
              "    </tr>\n",
              "    <tr>\n",
              "      <th>17</th>\n",
              "      <td>Spring Onion</td>\n",
              "      <td>17</td>\n",
              "    </tr>\n",
              "    <tr>\n",
              "      <th>18</th>\n",
              "      <td>beet</td>\n",
              "      <td>18</td>\n",
              "    </tr>\n",
              "    <tr>\n",
              "      <th>19</th>\n",
              "      <td>cucumber</td>\n",
              "      <td>19</td>\n",
              "    </tr>\n",
              "    <tr>\n",
              "      <th>20</th>\n",
              "      <td>peas</td>\n",
              "      <td>20</td>\n",
              "    </tr>\n",
              "    <tr>\n",
              "      <th>21</th>\n",
              "      <td>sweetpotato</td>\n",
              "      <td>21</td>\n",
              "    </tr>\n",
              "  </tbody>\n",
              "</table>\n",
              "</div>"
            ],
            "text/plain": [
              "               Label  Index\n",
              "0            Avocado      0\n",
              "1           Broccoli      1\n",
              "2   Brussels Sprouts      2\n",
              "3            Cabbage      3\n",
              "4             Carrot      4\n",
              "5         Coliflower      5\n",
              "6               Corn      6\n",
              "7           Eggplant      7\n",
              "8        Green Beans      8\n",
              "9       Green Tomato      9\n",
              "10          Mushroom     10\n",
              "11              Okra     11\n",
              "12             Onion     12\n",
              "13            Potato     13\n",
              "14           Pumpkin     14\n",
              "15        Red Tomato     15\n",
              "16           Spinach     16\n",
              "17      Spring Onion     17\n",
              "18              beet     18\n",
              "19          cucumber     19\n",
              "20              peas     20\n",
              "21       sweetpotato     21"
            ]
          },
          "metadata": {
            "tags": []
          },
          "execution_count": 26
        }
      ]
    },
    {
      "metadata": {
        "id": "Tef4NliYM-J_",
        "colab_type": "code",
        "colab": {}
      },
      "cell_type": "code",
      "source": [
        "labels.to_csv(\"labels.csv\", index=False)"
      ],
      "execution_count": 0,
      "outputs": []
    },
    {
      "metadata": {
        "id": "1MIht53Yr8xv",
        "colab_type": "code",
        "colab": {}
      },
      "cell_type": "code",
      "source": [
        "# Save the model according to the conditions  \n",
        "checkpoint = ModelCheckpoint(\"vgg19_pictorecipe_model.h5\", monitor='val_acc', verbose=0, save_best_only=True, save_weights_only=True, mode='auto', period=1)\n",
        "early = EarlyStopping(monitor='val_acc', min_delta=0, patience=10, verbose=1, mode='auto')\n"
      ],
      "execution_count": 0,
      "outputs": []
    },
    {
      "metadata": {
        "id": "PYusyKb-MV1x",
        "colab_type": "code",
        "colab": {}
      },
      "cell_type": "code",
      "source": [
        ""
      ],
      "execution_count": 0,
      "outputs": []
    },
    {
      "metadata": {
        "id": "h6fh5qpYsE_i",
        "colab_type": "code",
        "outputId": "5194dee9-86c6-4d25-e057-7cd8dc837a32",
        "colab": {
          "base_uri": "https://localhost:8080/",
          "height": 1854
        }
      },
      "cell_type": "code",
      "source": [
        "# Train the model \n",
        "model_final.fit_generator(train_generator,\n",
        "                          steps_per_epoch = train_samples/4,\n",
        "                          epochs = epochs,\n",
        "                          validation_data = validation_generator,\n",
        "                          validation_steps = test_samples/2,\n",
        "                          callbacks = [checkpoint, early])"
      ],
      "execution_count": 0,
      "outputs": [
        {
          "output_type": "stream",
          "text": [
            "Epoch 1/50\n",
            "258/257 [==============================] - 416s 2s/step - loss: 3.0966 - acc: 0.0562 - val_loss: 3.0845 - val_acc: 0.0623\n",
            "Epoch 2/50\n",
            "258/257 [==============================] - 210s 814ms/step - loss: 3.0553 - acc: 0.0767 - val_loss: 3.0668 - val_acc: 0.0557\n",
            "Epoch 3/50\n",
            "258/257 [==============================] - 210s 815ms/step - loss: 2.9732 - acc: 0.1068 - val_loss: 2.9427 - val_acc: 0.1024\n",
            "Epoch 4/50\n",
            "258/257 [==============================] - 211s 818ms/step - loss: 2.7857 - acc: 0.1513 - val_loss: 2.7587 - val_acc: 0.1668\n",
            "Epoch 5/50\n",
            "258/257 [==============================] - 211s 816ms/step - loss: 2.5842 - acc: 0.1915 - val_loss: 2.3791 - val_acc: 0.2781\n",
            "Epoch 6/50\n",
            "258/257 [==============================] - 209s 810ms/step - loss: 2.3208 - acc: 0.2746 - val_loss: 1.9879 - val_acc: 0.4197\n",
            "Epoch 7/50\n",
            "258/257 [==============================] - 210s 815ms/step - loss: 2.0691 - acc: 0.3557 - val_loss: 1.6895 - val_acc: 0.5229\n",
            "Epoch 8/50\n",
            "258/257 [==============================] - 210s 813ms/step - loss: 1.8085 - acc: 0.4327 - val_loss: 1.5063 - val_acc: 0.5785\n",
            "Epoch 9/50\n",
            "258/257 [==============================] - 210s 814ms/step - loss: 1.6348 - acc: 0.4908 - val_loss: 1.2406 - val_acc: 0.6523\n",
            "Epoch 10/50\n",
            "258/257 [==============================] - 213s 826ms/step - loss: 1.4095 - acc: 0.5606 - val_loss: 1.3066 - val_acc: 0.6036\n",
            "Epoch 11/50\n",
            "258/257 [==============================] - 210s 813ms/step - loss: 1.2540 - acc: 0.6137 - val_loss: 1.0977 - val_acc: 0.6870\n",
            "Epoch 12/50\n",
            "258/257 [==============================] - 211s 817ms/step - loss: 1.1524 - acc: 0.6440 - val_loss: 0.8935 - val_acc: 0.7341\n",
            "Epoch 13/50\n",
            "258/257 [==============================] - 212s 822ms/step - loss: 1.0297 - acc: 0.6785 - val_loss: 1.2471 - val_acc: 0.6463\n",
            "Epoch 14/50\n",
            "258/257 [==============================] - 209s 809ms/step - loss: 0.9135 - acc: 0.7255 - val_loss: 0.7563 - val_acc: 0.7742\n",
            "Epoch 15/50\n",
            "258/257 [==============================] - 212s 820ms/step - loss: 0.9075 - acc: 0.7282 - val_loss: 0.7400 - val_acc: 0.7930\n",
            "Epoch 16/50\n",
            "258/257 [==============================] - 213s 826ms/step - loss: 0.7913 - acc: 0.7622 - val_loss: 1.1336 - val_acc: 0.6944\n",
            "Epoch 17/50\n",
            "258/257 [==============================] - 215s 834ms/step - loss: 0.7664 - acc: 0.7677 - val_loss: 0.6590 - val_acc: 0.8098\n",
            "Epoch 18/50\n",
            "258/257 [==============================] - 212s 820ms/step - loss: 0.6413 - acc: 0.8100 - val_loss: 0.5866 - val_acc: 0.8344\n",
            "Epoch 19/50\n",
            "258/257 [==============================] - 213s 824ms/step - loss: 0.5848 - acc: 0.8179 - val_loss: 0.6601 - val_acc: 0.8041\n",
            "Epoch 20/50\n",
            "258/257 [==============================] - 214s 830ms/step - loss: 0.5259 - acc: 0.8398 - val_loss: 0.7134 - val_acc: 0.8008\n",
            "Epoch 21/50\n",
            "258/257 [==============================] - 211s 818ms/step - loss: 0.5318 - acc: 0.8399 - val_loss: 0.7256 - val_acc: 0.7792\n",
            "Epoch 22/50\n",
            "258/257 [==============================] - 214s 830ms/step - loss: 0.4921 - acc: 0.8517 - val_loss: 0.5608 - val_acc: 0.8323\n",
            "Epoch 23/50\n",
            "258/257 [==============================] - 212s 821ms/step - loss: 0.4354 - acc: 0.8733 - val_loss: 0.8716 - val_acc: 0.7716\n",
            "Epoch 24/50\n",
            "258/257 [==============================] - 212s 821ms/step - loss: 0.4348 - acc: 0.8766 - val_loss: 0.8001 - val_acc: 0.7583\n",
            "Epoch 25/50\n",
            "258/257 [==============================] - 214s 829ms/step - loss: 0.3716 - acc: 0.8961 - val_loss: 0.6784 - val_acc: 0.8083\n",
            "Epoch 26/50\n",
            "258/257 [==============================] - 211s 817ms/step - loss: 0.3521 - acc: 0.8900 - val_loss: 0.5132 - val_acc: 0.8602\n",
            "Epoch 27/50\n",
            "258/257 [==============================] - 213s 827ms/step - loss: 0.3626 - acc: 0.8826 - val_loss: 0.6814 - val_acc: 0.8192\n",
            "Epoch 28/50\n",
            "258/257 [==============================] - 213s 827ms/step - loss: 0.3582 - acc: 0.9031 - val_loss: 0.5623 - val_acc: 0.8363\n",
            "Epoch 29/50\n",
            "258/257 [==============================] - 213s 826ms/step - loss: 0.3030 - acc: 0.9090 - val_loss: 0.5618 - val_acc: 0.8422\n",
            "Epoch 30/50\n",
            "258/257 [==============================] - 213s 827ms/step - loss: 0.2838 - acc: 0.9149 - val_loss: 0.6323 - val_acc: 0.8358\n",
            "Epoch 31/50\n",
            "258/257 [==============================] - 212s 820ms/step - loss: 0.2608 - acc: 0.9243 - val_loss: 0.5790 - val_acc: 0.8377\n",
            "Epoch 32/50\n",
            "258/257 [==============================] - 211s 818ms/step - loss: 0.3377 - acc: 0.9095 - val_loss: 0.4803 - val_acc: 0.8690\n",
            "Epoch 33/50\n",
            "258/257 [==============================] - 211s 817ms/step - loss: 0.2348 - acc: 0.9332 - val_loss: 0.5525 - val_acc: 0.8572\n",
            "Epoch 34/50\n",
            "258/257 [==============================] - 211s 818ms/step - loss: 0.2306 - acc: 0.9345 - val_loss: 0.5500 - val_acc: 0.8512\n",
            "Epoch 35/50\n",
            "258/257 [==============================] - 211s 818ms/step - loss: 0.2251 - acc: 0.9360 - val_loss: 0.5038 - val_acc: 0.8721\n",
            "Epoch 36/50\n",
            "258/257 [==============================] - 210s 813ms/step - loss: 0.2088 - acc: 0.9419 - val_loss: 0.4998 - val_acc: 0.8710\n",
            "Epoch 37/50\n",
            "258/257 [==============================] - 211s 817ms/step - loss: 0.1856 - acc: 0.9430 - val_loss: 0.5305 - val_acc: 0.8711\n",
            "Epoch 38/50\n",
            "258/257 [==============================] - 210s 815ms/step - loss: 0.2088 - acc: 0.9409 - val_loss: 0.5206 - val_acc: 0.8571\n",
            "Epoch 39/50\n",
            "258/257 [==============================] - 210s 814ms/step - loss: 0.1654 - acc: 0.9502 - val_loss: 0.5869 - val_acc: 0.8517\n",
            "Epoch 40/50\n",
            "258/257 [==============================] - 212s 823ms/step - loss: 0.1899 - acc: 0.9398 - val_loss: 0.5157 - val_acc: 0.8695\n",
            "Epoch 41/50\n",
            "258/257 [==============================] - 215s 833ms/step - loss: 0.2630 - acc: 0.9330 - val_loss: 0.4988 - val_acc: 0.8782\n",
            "Epoch 42/50\n",
            "258/257 [==============================] - 211s 818ms/step - loss: 0.1970 - acc: 0.9444 - val_loss: 0.6349 - val_acc: 0.8441\n",
            "Epoch 43/50\n",
            "258/257 [==============================] - 216s 836ms/step - loss: 0.1698 - acc: 0.9589 - val_loss: 0.5368 - val_acc: 0.8725\n",
            "Epoch 44/50\n",
            "258/257 [==============================] - 213s 827ms/step - loss: 0.1740 - acc: 0.9524 - val_loss: 0.6325 - val_acc: 0.8413\n",
            "Epoch 45/50\n",
            "258/257 [==============================] - 214s 828ms/step - loss: 0.1377 - acc: 0.9599 - val_loss: 0.5318 - val_acc: 0.8615\n",
            "Epoch 46/50\n",
            "258/257 [==============================] - 213s 826ms/step - loss: 0.1512 - acc: 0.9535 - val_loss: 0.5176 - val_acc: 0.8759\n",
            "Epoch 47/50\n",
            "258/257 [==============================] - 212s 823ms/step - loss: 0.1251 - acc: 0.9621 - val_loss: 0.4326 - val_acc: 0.9033\n",
            "Epoch 48/50\n",
            "258/257 [==============================] - 214s 829ms/step - loss: 0.1845 - acc: 0.9471 - val_loss: 0.6526 - val_acc: 0.8382\n",
            "Epoch 49/50\n",
            "258/257 [==============================] - 214s 828ms/step - loss: 0.1079 - acc: 0.9705 - val_loss: 0.4583 - val_acc: 0.8915\n",
            "Epoch 50/50\n",
            "258/257 [==============================] - 215s 831ms/step - loss: 0.1643 - acc: 0.9553 - val_loss: 0.5544 - val_acc: 0.8661\n"
          ],
          "name": "stdout"
        },
        {
          "output_type": "execute_result",
          "data": {
            "text/plain": [
              "<keras.callbacks.History at 0x7f783d4067f0>"
            ]
          },
          "metadata": {
            "tags": []
          },
          "execution_count": 29
        }
      ]
    },
    {
      "metadata": {
        "id": "0WVthaEaypZV",
        "colab_type": "code",
        "colab": {}
      },
      "cell_type": "code",
      "source": [
        ""
      ],
      "execution_count": 0,
      "outputs": []
    }
  ]
}